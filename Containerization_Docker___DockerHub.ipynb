{
 "cells": [
  {
   "cell_type": "markdown",
   "metadata": {
    "id": "aUC9h-LbWS6Z"
   },
   "source": [
    "##**Table of Contents:**\n",
    "\n",
    "| Topic | |\n",
    "|-| |\n",
    "| Problem Statement | |\n",
    "|Container and Containerization | |\n",
    "|What is Docker? | |\n",
    "|Creating Dockerfile | |\n",
    "|Building Image | |\n",
    "|Running Applications on Container | |"
   ]
  },
  {
   "cell_type": "markdown",
   "metadata": {
    "id": "MR4zxA8xY2-B"
   },
   "source": [
    "##**Problem Statement:**"
   ]
  },
  {
   "cell_type": "markdown",
   "metadata": {
    "id": "_FaDwp_DWS4P"
   },
   "source": [
    "- There will be a time that everyone would have faced where you would have got an error on installing, or running, or compiling an application, script or anything.\n",
    "\n",
    "- The primary reasons for this to happen can be:\n",
    "  1. Compaitilibity error on OS\n",
    "  2. Missing Softwares\n",
    "  3. Incapable Hardware\n",
    "\n",
    "- When building a Data Science pipeline for a project, you would require to perform following steps:\n",
    "\n",
    "  1. Collect Data\n",
    "  2. Clean the Data\n",
    "  3. Train a model\n",
    "  4. Package the model in an API/App\n",
    "  5. Deploy the app on a server\n",
    "\n",
    "- The challenge here is that, the app that you built was developed on your local machine, and the deployment is on another machine.\n",
    "\n",
    "- Aren't there considerable chances that the app might fail because of the reasons mentioned above.\n",
    "\n",
    "- Ideally, we would want that the app that we built should run smoothly on any machine, regardless of any OS or platform."
   ]
  },
  {
   "cell_type": "markdown",
   "metadata": {
    "id": "Yk6heD71WS19"
   },
   "source": [
    "###**Steps involved in Deployment:**"
   ]
  },
  {
   "cell_type": "markdown",
   "metadata": {
    "id": "ENoDaQyEWSzR"
   },
   "source": [
    "- So, when we talk about deployment, these are the steps that are generally involved.\n",
    "\n",
    "  1. Finding a cloud-hosted machine/server\n",
    "  2. Setting up OS on that machine\n",
    "  3. Copy all the files from local to the cloud server\n",
    "  4. Install all dependencies (python, sklearn, streamlit, etc.)\n",
    "  5. Run the app"
   ]
  },
  {
   "cell_type": "markdown",
   "metadata": {
    "id": "efH08K5vWSxP"
   },
   "source": [
    "- There are reasons that deployment might fail. The major ones are:\n",
    "  1. One or more misssing files/drivers/dependencies\n",
    "  2. Version mismatch\n",
    "  3. Different OS and configurations.\n",
    "\n",
    "- This is where containerization comes into picture."
   ]
  },
  {
   "cell_type": "markdown",
   "metadata": {
    "id": "qB0tvIo9WSu9"
   },
   "source": [
    "##**Docker:**"
   ]
  },
  {
   "cell_type": "markdown",
   "metadata": {
    "id": "SgkhtcfAXvU6"
   },
   "source": [
    "###**Container and Containerization:**"
   ]
  },
  {
   "cell_type": "markdown",
   "metadata": {
    "id": "ySZ-OC_eWhHN"
   },
   "source": [
    "Before moving onto docker, let us first understand what is container.\n",
    "\n",
    "- A container is a piece of software used to virtually package and isolate applications to allow greater scalability, availability, and portability across diverse computing environments such as cloud instances, virtual machines (VMs), and different operating systems.\n",
    "\n",
    "- And, this packaging of software code with just the OS libraries and dependencies required to run the code to create a container is known as Containerization."
   ]
  },
  {
   "cell_type": "markdown",
   "metadata": {
    "id": "BYzmaMHmX0nQ"
   },
   "source": [
    "###**What is Docker?**"
   ]
  },
  {
   "cell_type": "markdown",
   "metadata": {
    "id": "HN5dItSUWSsw"
   },
   "source": [
    "- Docker is a platform for building, running & shippping applications consisteently **without fail**.\n",
    "\n",
    "- Every company rolls out some new features via app updates every week, and they would not want to check silly things like checking software compatibilities, version control, etc.\n",
    "\n",
    "- They will just use a container that docker provides, and deploy that.\n",
    "\n",
    "- Docker basically packs all the required dependencies along with OS libraries into a container. \n",
    "\n",
    "- You would get an image, that basically witholds all the information about staring, navigating to our container.\n",
    "\n"
   ]
  },
  {
   "cell_type": "markdown",
   "metadata": {
    "id": "SRnGLyjdWSqa"
   },
   "source": [
    "Now, the question that you might ask is that **how and where does this container runs on the local machine?**\n",
    "\n",
    "- This can be understood by the following image:\n",
    "\n",
    "  ![write_output](https://drive.google.com/uc?export=view&id=1zknyfHtR2PvQmDgU9nALjVQxEag0Y6dc)\n",
    "- As shown, there is a hardware on which a certain OS will be running.\n",
    "\n",
    "- This OS helps us to interact with the hardware throught different apps and softwares.\n",
    "\n",
    "- Docker is also one of those applications.\n",
    "\n",
    "- On top of Docker, you can run multiple contatiners for testing your different applications."
   ]
  },
  {
   "cell_type": "markdown",
   "metadata": {
    "id": "1C1p-r7sWSn_"
   },
   "source": [
    "###**How is it different from a Virtual Machine?**\n",
    "\n",
    "- A VM is an abstraction of a machine which is a full blown copy of an OS.\n",
    "\n",
    "- Since it a full-blown copy, there are certain problems that comes with it. They are:\n",
    "\n",
    "  1. It takes considerable amount of time to load.\n",
    "  2. it takes a lot of disk space from the host storage.\n",
    "\n",
    "- Solutions: \n",
    "  - For this we need something that is lightweight\n",
    "  - It should be able to boot up quickly.\n",
    "  - It should be anle to run multiple apps with less amount of storage.\n",
    "\n",
    "- All these things are provided by Docker."
   ]
  },
  {
   "cell_type": "markdown",
   "metadata": {
    "id": "HjcEs_aiWSll"
   },
   "source": [
    "##**Workflow of Using Docker::**"
   ]
  },
  {
   "cell_type": "markdown",
   "metadata": {
    "id": "VyTCkJZWWShX"
   },
   "source": [
    "- When staring using Docker, we would have an application ready to be deployed, the data, and the trained model.\n",
    "\n",
    "- We would then write the code for something known as **Dockerfile**, which is nothing but a plain text file that contains instructions that docker uses ti pack your app into an image.\n",
    "\n",
    "- Once a dockerfile is ready, the next step would be to build an image.\n",
    "\n",
    "- For using this image, we would run the image that will basically create a container, that will run your app."
   ]
  },
  {
   "cell_type": "markdown",
   "metadata": {
    "id": "CiDsXnFX2yYL"
   },
   "source": [
    "###**1. Creating Dockerfile:**"
   ]
  },
  {
   "cell_type": "markdown",
   "metadata": {
    "id": "3jHmGPZJ2zMq"
   },
   "source": [
    "- So, when setting up a new machine these are the steps that most people follow:\n",
    "  1. Install and Setup an OS\n",
    "  2. A runtime environment (in our case, Python)\n",
    "  3. Copy files.\n",
    "  4. Install dependencies\n",
    "\n",
    "- Now, to install the dependencies, we will make a **`.txt`** file, which will state all the dependencies that are required.\n",
    "\n",
    "- One another way to do so is to use a command as follows:\n",
    "  **`pip freze > requirements.txt`**\n",
    "\n",
    "  - `pip freeze` lists all the packages in the current environment, and puts them in the file `requirements.txt` . But this is not a good option, since we would not want all the libraries to be installed.\n",
    "\n",
    " "
   ]
  },
  {
   "cell_type": "markdown",
   "metadata": {
    "id": "8_ncPbet2zKh"
   },
   "source": [
    "- Now, docker offers a lot of pre-built containers for the developers to use, so that they dont have to start again from the scratch.\n",
    "\n",
    "- For that you'll need to go to <a href=\"https://hub.docker.com/search?q=\">dockerhub</a>\n",
    "\n",
    "- You can search for <a href =\"https://hub.docker.com/_/python\">Python Image</a>, and there you'll see different images for different types of OS.\n",
    "\n",
    "- When you click on any one of the images, it will take you to the code posted on github, that Docker will use to install python.\n",
    "\n",
    "- So, in our Dockerfile we'll just mention the name of the selected image, and docker will automatically fetch us that version of python for that particular OS.\n",
    "\n"
   ]
  },
  {
   "cell_type": "code",
   "execution_count": null,
   "metadata": {
    "id": "jSrkmL2cQEJi"
   },
   "outputs": [],
   "source": [
    "# ***********DOCKERFILE***********\n",
    "\n",
    "FROM python:3.8-slim-buster"
   ]
  },
  {
   "cell_type": "markdown",
   "metadata": {
    "id": "V9tW6AJ72zIk"
   },
   "source": [
    "- Now that we've setup an OS and an environment, we need to copy necessary files.\n",
    "\n",
    "- For that we'll create a working directory called `flask-docker`, where all the reauired dependencies will be installed."
   ]
  },
  {
   "cell_type": "code",
   "execution_count": null,
   "metadata": {
    "id": "flgClpUXRTpo"
   },
   "outputs": [],
   "source": [
    "# ***********DOCKERFILE***********\n",
    "\n",
    "FROM python:3.8-slim-buster\n",
    "\n",
    "WORKDIR /flask-docker"
   ]
  },
  {
   "cell_type": "markdown",
   "metadata": {
    "id": "MOxSkWOC2zF3"
   },
   "source": [
    "\n",
    "- Before moving ahead, let's make sure that python is ready to be used, and there are no pending updates on the python itself."
   ]
  },
  {
   "cell_type": "code",
   "execution_count": null,
   "metadata": {
    "id": "y1ZXkGUKRg8W"
   },
   "outputs": [],
   "source": [
    "# ***********DOCKERFILE***********\n",
    "\n",
    "FROM python:3.8-slim-buster\n",
    "\n",
    "WORKDIR /flask-docker\n",
    "\n",
    "RUN python3 -m pip install --upgrade pip"
   ]
  },
  {
   "cell_type": "markdown",
   "metadata": {
    "id": "bRjrrqZs2zEE"
   },
   "source": [
    "- For copying files, we'll first copy the `requirements.txt` file from local machine to the container, so that there are no errors because of code being ddependent on these libraries"
   ]
  },
  {
   "cell_type": "code",
   "execution_count": null,
   "metadata": {
    "id": "yHQOvOM_SWk-"
   },
   "outputs": [],
   "source": [
    "# ***********DOCKERFILE***********\n",
    "\n",
    "FROM python:3.8-slim-buster\n",
    "\n",
    "WORKDIR /flask-docker\n",
    "\n",
    "RUN python3 -m pip install --upgrade pip\n",
    "COPY requirements.txt requirements.txt"
   ]
  },
  {
   "cell_type": "markdown",
   "metadata": {
    "id": "AFjLmXea2zBc"
   },
   "source": [
    "- In the `COPY` command, the first `requirements.txt` is the local file, and the second  `requirements.txt` is the name of the file that will appear on the container.\n",
    "\n",
    "- We'll now install the requirement libraries."
   ]
  },
  {
   "cell_type": "code",
   "execution_count": null,
   "metadata": {
    "id": "vdyWGGgETCp5"
   },
   "outputs": [],
   "source": [
    "# ***********DOCKERFILE***********\n",
    "\n",
    "FROM python:3.8-slim-buster\n",
    "\n",
    "WORKDIR /flask-docker\n",
    "\n",
    "RUN python3 -m pip install --upgrade pip\n",
    "COPY requirements.txt requirements.txt\n",
    "RUN pip3 install -r requirements.txt"
   ]
  },
  {
   "cell_type": "markdown",
   "metadata": {
    "id": "-whoQ8DD2y_G"
   },
   "source": [
    "- This will install all the libraries listed in the `txt` file. Here, `-r` tells to read the content present in the `txt` file.\n",
    "\n",
    "- Now, that we'e installed the dependencies, we'll copy rest of the files that are needed."
   ]
  },
  {
   "cell_type": "code",
   "execution_count": null,
   "metadata": {
    "id": "4woaoP3TTmxM"
   },
   "outputs": [],
   "source": [
    "# ***********DOCKERFILE***********\n",
    "\n",
    "FROM python:3.8-slim-buster\n",
    "\n",
    "WORKDIR /flask-docker\n",
    "\n",
    "RUN python3 -m pip install --upgrade pip\n",
    "COPY requirements.txt requirements.txt\n",
    "RUN pip3 install -r requirements.txt\n",
    "\n",
    "COPY . ."
   ]
  },
  {
   "cell_type": "markdown",
   "metadata": {
    "id": "VG43O0li2y81"
   },
   "source": [
    "- Here, the first `.` tells to copy everything in the current directory from the local machine, and the second `.` tells the destination path, that is, the current directory on the conatiner.\n",
    "\n",
    "- Now, we'll use a command to run the flask application."
   ]
  },
  {
   "cell_type": "code",
   "execution_count": null,
   "metadata": {
    "id": "eIHXwrTQUF2i"
   },
   "outputs": [],
   "source": [
    "# ***********DOCKERFILE***********\n",
    "\n",
    "FROM python:3.8-slim-buster\n",
    "\n",
    "WORKDIR /flask-docker\n",
    "\n",
    "RUN python3 -m pip install --upgrade pip\n",
    "COPY requirements.txt requirements.txt\n",
    "RUN pip3 install -r requirements.txt\n",
    "\n",
    "COPY . .\n",
    "\n",
    "CMD [\"python3\", \"-m\", \"flask\", \"run\", \"--host=0.0.0.0\"]"
   ]
  },
  {
   "cell_type": "markdown",
   "metadata": {
    "id": "EwmMhEOQ2y6M"
   },
   "source": [
    "- Now that we've created a dockerfile, the next step here would be to build an image."
   ]
  },
  {
   "cell_type": "markdown",
   "metadata": {
    "id": "xBqYpr94U2yv"
   },
   "source": [
    "###**2.Build Image:**"
   ]
  },
  {
   "cell_type": "markdown",
   "metadata": {
    "id": "E6QjS11LU2wx"
   },
   "source": [
    "- For this, make sure you have Docker Desktop running.\n",
    "\n",
    "- Go to your command line, and use the following command: \n",
    "\n",
    "  `docker build -t loan_app .`\n",
    "\n",
    "- Here, `-t` represents a tag name, which in our case is `loan_app`.\n",
    "\n",
    "- The `.` represents the current directory, and tells docker to build an image from there.\n",
    "\n",
    "- When you run the command, notice it would install all the dependencies step by step just as you mentioned in the dockerfile.\n",
    "\n",
    "- Once done, you can check all the images present usign this command; `docker images`. You'll see the present directory, tag, size, time of creation, etc.  "
   ]
  },
  {
   "cell_type": "markdown",
   "metadata": {
    "id": "aRvRsUSYU2uf"
   },
   "source": [
    "###**3. Run Application on Container:**"
   ]
  },
  {
   "cell_type": "markdown",
   "metadata": {
    "id": "s3obKBVVU2sX"
   },
   "source": [
    "- To run the image that we build, use the following command:\n",
    "\n",
    "  `docker run -p 8000:5000 -d flask_loan_app`\n",
    "\n",
    "- By default, a flask applciation runs on `5000 port`.\n",
    "\n",
    "- `-p` mentions the port of `slim-buster` OS that will be used by the container to run the Flask app.\n",
    "So, we're connecting `5000` port of local machine to `8000` port of slim-buster.\n",
    "\n",
    "- You can keep the port as 5000 itself. It is not compulsary to do so.\n",
    "\n",
    "- If you run the command, it will give you a local address on which flask will be running. You can check the output with `http://127.0.0.1:8000/ping` address. The output will look similar:\n",
    "\n",
    "  ![write_output](https://drive.google.com/uc?export=view&id=1AUJrvOLcEP-GrBe1gQRSQcDmu-f47Prw)\n",
    "\n",
    "- You can also check `/predict` address using postman, just like we did in the last lecture.\n",
    "\n",
    "  ![write_output](https://drive.google.com/uc?export=view&id=1Feqddc_tAZegWOYlhbUQQVSYHilvbeHD)"
   ]
  },
  {
   "cell_type": "markdown",
   "metadata": {
    "id": "J5YN8D1Gkr4J"
   },
   "source": [
    "- This container is running on your local machine. If you want to publish it online, just like we post a code on Github, you can push it on DockerHub."
   ]
  }
 ],
 "metadata": {
  "colab": {
   "collapsed_sections": [
    "aUC9h-LbWS6Z",
    "1C1p-r7sWSn_"
   ],
   "provenance": [],
   "toc_visible": true
  },
  "kernelspec": {
   "display_name": "Python 3 (ipykernel)",
   "language": "python",
   "name": "python3"
  },
  "language_info": {
   "codemirror_mode": {
    "name": "ipython",
    "version": 3
   },
   "file_extension": ".py",
   "mimetype": "text/x-python",
   "name": "python",
   "nbconvert_exporter": "python",
   "pygments_lexer": "ipython3",
   "version": "3.9.7"
  }
 },
 "nbformat": 4,
 "nbformat_minor": 1
}
